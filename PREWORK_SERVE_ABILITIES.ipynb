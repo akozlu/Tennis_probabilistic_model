{
 "cells": [
  {
   "cell_type": "code",
   "execution_count": 82,
   "metadata": {},
   "outputs": [],
   "source": [
    "import csv\n",
    "import pandas as pd\n",
    "import numpy as np\n",
    "import glob"
   ]
  },
  {
   "cell_type": "code",
   "execution_count": 83,
   "metadata": {},
   "outputs": [
    {
     "data": {
      "text/html": [
       "<div>\n",
       "<style scoped>\n",
       "    .dataframe tbody tr th:only-of-type {\n",
       "        vertical-align: middle;\n",
       "    }\n",
       "\n",
       "    .dataframe tbody tr th {\n",
       "        vertical-align: top;\n",
       "    }\n",
       "\n",
       "    .dataframe thead th {\n",
       "        text-align: right;\n",
       "    }\n",
       "</style>\n",
       "<table border=\"1\" class=\"dataframe\">\n",
       "  <thead>\n",
       "    <tr style=\"text-align: right;\">\n",
       "      <th></th>\n",
       "      <th>match_id</th>\n",
       "      <th>player</th>\n",
       "      <th>row</th>\n",
       "      <th>first_pts</th>\n",
       "      <th>first_pts_won</th>\n",
       "      <th>first_aces</th>\n",
       "      <th>first_unret</th>\n",
       "      <th>first_forced</th>\n",
       "      <th>first_won_lte_3_shots</th>\n",
       "      <th>second_pts</th>\n",
       "      <th>second_pts_won</th>\n",
       "      <th>second_aces</th>\n",
       "      <th>second_unret</th>\n",
       "      <th>second_forced</th>\n",
       "      <th>second_won_lte_3_shots</th>\n",
       "    </tr>\n",
       "  </thead>\n",
       "  <tbody>\n",
       "    <tr>\n",
       "      <th>0</th>\n",
       "      <td>19751219-M-Davis_Cup_World_Group_F-RR-Bjorn_Bo...</td>\n",
       "      <td>1</td>\n",
       "      <td>d</td>\n",
       "      <td>17</td>\n",
       "      <td>13</td>\n",
       "      <td>2</td>\n",
       "      <td>0</td>\n",
       "      <td>4</td>\n",
       "      <td>9</td>\n",
       "      <td>19</td>\n",
       "      <td>11</td>\n",
       "      <td>0</td>\n",
       "      <td>0</td>\n",
       "      <td>1</td>\n",
       "      <td>3</td>\n",
       "    </tr>\n",
       "    <tr>\n",
       "      <th>1</th>\n",
       "      <td>19751219-M-Davis_Cup_World_Group_F-RR-Bjorn_Bo...</td>\n",
       "      <td>1</td>\n",
       "      <td>a</td>\n",
       "      <td>15</td>\n",
       "      <td>12</td>\n",
       "      <td>0</td>\n",
       "      <td>0</td>\n",
       "      <td>4</td>\n",
       "      <td>5</td>\n",
       "      <td>18</td>\n",
       "      <td>10</td>\n",
       "      <td>0</td>\n",
       "      <td>0</td>\n",
       "      <td>0</td>\n",
       "      <td>1</td>\n",
       "    </tr>\n",
       "    <tr>\n",
       "      <th>2</th>\n",
       "      <td>19751219-M-Davis_Cup_World_Group_F-RR-Bjorn_Bo...</td>\n",
       "      <td>1</td>\n",
       "      <td>4</td>\n",
       "      <td>20</td>\n",
       "      <td>19</td>\n",
       "      <td>2</td>\n",
       "      <td>0</td>\n",
       "      <td>6</td>\n",
       "      <td>11</td>\n",
       "      <td>9</td>\n",
       "      <td>6</td>\n",
       "      <td>0</td>\n",
       "      <td>0</td>\n",
       "      <td>0</td>\n",
       "      <td>1</td>\n",
       "    </tr>\n",
       "    <tr>\n",
       "      <th>3</th>\n",
       "      <td>19751219-M-Davis_Cup_World_Group_F-RR-Bjorn_Bo...</td>\n",
       "      <td>1</td>\n",
       "      <td>5</td>\n",
       "      <td>6</td>\n",
       "      <td>4</td>\n",
       "      <td>0</td>\n",
       "      <td>0</td>\n",
       "      <td>0</td>\n",
       "      <td>1</td>\n",
       "      <td>22</td>\n",
       "      <td>11</td>\n",
       "      <td>0</td>\n",
       "      <td>0</td>\n",
       "      <td>0</td>\n",
       "      <td>1</td>\n",
       "    </tr>\n",
       "    <tr>\n",
       "      <th>4</th>\n",
       "      <td>19751219-M-Davis_Cup_World_Group_F-RR-Bjorn_Bo...</td>\n",
       "      <td>1</td>\n",
       "      <td>6</td>\n",
       "      <td>6</td>\n",
       "      <td>2</td>\n",
       "      <td>0</td>\n",
       "      <td>0</td>\n",
       "      <td>2</td>\n",
       "      <td>2</td>\n",
       "      <td>6</td>\n",
       "      <td>4</td>\n",
       "      <td>0</td>\n",
       "      <td>0</td>\n",
       "      <td>1</td>\n",
       "      <td>2</td>\n",
       "    </tr>\n",
       "  </tbody>\n",
       "</table>\n",
       "</div>"
      ],
      "text/plain": [
       "                                            match_id  player row  first_pts  \\\n",
       "0  19751219-M-Davis_Cup_World_Group_F-RR-Bjorn_Bo...       1   d         17   \n",
       "1  19751219-M-Davis_Cup_World_Group_F-RR-Bjorn_Bo...       1   a         15   \n",
       "2  19751219-M-Davis_Cup_World_Group_F-RR-Bjorn_Bo...       1   4         20   \n",
       "3  19751219-M-Davis_Cup_World_Group_F-RR-Bjorn_Bo...       1   5          6   \n",
       "4  19751219-M-Davis_Cup_World_Group_F-RR-Bjorn_Bo...       1   6          6   \n",
       "\n",
       "   first_pts_won  first_aces  first_unret  first_forced  \\\n",
       "0             13           2            0             4   \n",
       "1             12           0            0             4   \n",
       "2             19           2            0             6   \n",
       "3              4           0            0             0   \n",
       "4              2           0            0             2   \n",
       "\n",
       "   first_won_lte_3_shots  second_pts  second_pts_won  second_aces  \\\n",
       "0                      9          19              11            0   \n",
       "1                      5          18              10            0   \n",
       "2                     11           9               6            0   \n",
       "3                      1          22              11            0   \n",
       "4                      2           6               4            0   \n",
       "\n",
       "   second_unret  second_forced  second_won_lte_3_shots  \n",
       "0             0              1                       3  \n",
       "1             0              0                       1  \n",
       "2             0              0                       1  \n",
       "3             0              0                       1  \n",
       "4             0              1                       2  "
      ]
     },
     "execution_count": 83,
     "metadata": {},
     "output_type": "execute_result"
    }
   ],
   "source": [
    "frame_1=pd.read_csv('serve_split.csv')\n",
    "frame_1.head()"
   ]
  },
  {
   "cell_type": "code",
   "execution_count": 84,
   "metadata": {},
   "outputs": [],
   "source": [
    "frame_11=frame_1['match_id'].str.split('-', expand=True)#rename(columns = lambda x: \"string\"+str(x+1))\n",
    "\n",
    "player_1=frame_11[4].tolist()\n",
    "player_2=frame_11[5].tolist()\n",
    "\n",
    "pl1=pd.Series(player_1)\n",
    "pl2=pd.Series(player_2)\n",
    "frame_1['Player_1']=pl1.values\n",
    "frame_1['Player_2']=pl2.values\n",
    "\n",
    "frame_1=frame_1.drop(['match_id'],axis=1)\n"
   ]
  },
  {
   "cell_type": "code",
   "execution_count": 85,
   "metadata": {},
   "outputs": [
    {
     "data": {
      "text/plain": [
       "16"
      ]
     },
     "execution_count": 85,
     "metadata": {},
     "output_type": "execute_result"
    }
   ],
   "source": [
    "path =r'/media/romit/249E6A809E6A49FE/my_work/core_project/fol' # use your path\n",
    "allFiles = glob.glob(path + \"/*.csv\")\n",
    "frame = pd.DataFrame()\n",
    "list_ = []\n",
    "for file_ in allFiles:\n",
    "    df = pd.read_csv(file_,index_col=None, header=0)\n",
    "    list_.append(df)\n",
    "frame= pd.concat(list_)\n",
    "len(list_)"
   ]
  },
  {
   "cell_type": "code",
   "execution_count": 86,
   "metadata": {},
   "outputs": [
    {
     "data": {
      "text/plain": [
       "1897"
      ]
     },
     "execution_count": 86,
     "metadata": {},
     "output_type": "execute_result"
    }
   ],
   "source": [
    "x=frame['winner_name'].unique().tolist()\n",
    "v=frame['loser_name'].unique().tolist()\n",
    "res_f=list(set(x+v))\n",
    "len(res_f)"
   ]
  },
  {
   "cell_type": "code",
   "execution_count": 87,
   "metadata": {},
   "outputs": [
    {
     "data": {
      "text/plain": [
       "560"
      ]
     },
     "execution_count": 87,
     "metadata": {},
     "output_type": "execute_result"
    }
   ],
   "source": [
    "x=frame_1['Player_1'].unique().tolist()\n",
    "y=frame_1['Player_2'].unique().tolist()\n",
    "\n",
    "res = list(set(x+y))\n",
    "len(y),len(x),len(res)\n",
    "\n",
    "final_list=list(set(res_f and res))\n",
    "len(final_list)"
   ]
  },
  {
   "cell_type": "code",
   "execution_count": 62,
   "metadata": {},
   "outputs": [],
   "source": [
    "def win_perc(df,final_list):\n",
    "    \n",
    "    final=[]\n",
    "    final_list=sorted(final_list)\n",
    "    for z in range(len(sorted(final_list))):\n",
    "        basic=[]\n",
    "        basic.append(final_list[z])\n",
    "        df_z=df[df['Player_1']==final_list[z]]\n",
    "        df_d=df_z[(df_z['row']=='d') & (df_z['player']==1)]\n",
    "        t_d_1=df_d['first_pts'].sum()+df_d['second_pts'].sum()\n",
    "    \n",
    "        w_1d_1=df_d['first_pts_won'].sum()\n",
    "        w_2dP=df_d['second_pts_won'].sum()\n",
    "    \n",
    "        df_a=df_z[(df_z['row']=='a') & (df['player']==1)]\n",
    "        t_a=df_a['first_pts'].sum()+df_a['second_pts'].sum()\n",
    "    \n",
    "        w_1a=df_a['first_pts_won'].sum()\n",
    "        w_2a=df_a['second_pts_won'].sum()\n",
    "    \n",
    "        i_1d=df_d['first_pts'].sum()\n",
    "        i_1a=df_a['first_pts'].sum()\n",
    "    \n",
    "        i_2d=df_d['second_pts'].sum()\n",
    "        i_2a=df_a['second_pts'].sum()\n",
    "        \n",
    "        t=t_d+t_a    # total no. of serves as player 1\n",
    "        basic.append(t)\n",
    "        \n",
    "        i_1=i_1d+i_1a   # total no of first serves in as player 1\n",
    "        basic.append(i_1)\n",
    "        \n",
    "        i_2=i_2d+i_2a #total no of second serves in as player 1\n",
    "        basic.append(i_2)\n",
    "        \n",
    "        w_1=w_1d+w_1a # total no of wins in first serve as player 1\n",
    "        basic.append(w_1)\n",
    "        \n",
    "        w_2=w_2d+w_2a  # total no of wins in second serve as player 1\n",
    "        basic.append(w_2)\n",
    "        \n",
    "        final.append(basic)\n",
    "        \n",
    "    \n",
    "    return final"
   ]
  },
  {
   "cell_type": "code",
   "execution_count": 76,
   "metadata": {
    "scrolled": true
   },
   "outputs": [
    {
     "name": "stderr",
     "output_type": "stream",
     "text": [
      "/home/romit/anaconda2/lib/python2.7/site-packages/ipykernel_launcher.py:15: UserWarning: Boolean Series key will be reindexed to match DataFrame index.\n",
      "  from ipykernel import kernelapp as app\n"
     ]
    }
   ],
   "source": [
    "t=win_perc(frame_1,final_list)\n"
   ]
  },
  {
   "cell_type": "code",
   "execution_count": 77,
   "metadata": {
    "scrolled": true
   },
   "outputs": [],
   "source": [
    "columns=['Player_name','Total_serve','1st_in','2nd_in','1st_won','2nd_won']\n",
    "serve_frame=pd.DataFrame(t,columns=columns)\n"
   ]
  },
  {
   "cell_type": "code",
   "execution_count": 78,
   "metadata": {
    "scrolled": true
   },
   "outputs": [],
   "source": [
    "serve_frame=serve_frame.dropna()"
   ]
  },
  {
   "cell_type": "markdown",
   "metadata": {},
   "source": [
    "# f(i)=perc of points won by player on serve"
   ]
  },
  {
   "cell_type": "code",
   "execution_count": 79,
   "metadata": {},
   "outputs": [],
   "source": [
    "a=(serve_frame['1st_in']/serve_frame['Total_serve'])\n",
    "b=(serve_frame['1st_won']/serve_frame['1st_in'])\n",
    "c=(serve_frame['2nd_won']/serve_frame['2nd_in'])\n",
    "serve_frame['f(i)']=(a)*(b)+(1-a)*c  \n",
    "#perc. of 1st serve in * perc of 1st serve won + perc. of 2nd serve in * perc of 2nd serve in"
   ]
  },
  {
   "cell_type": "code",
   "execution_count": 80,
   "metadata": {},
   "outputs": [
    {
     "data": {
      "text/html": [
       "<div>\n",
       "<style scoped>\n",
       "    .dataframe tbody tr th:only-of-type {\n",
       "        vertical-align: middle;\n",
       "    }\n",
       "\n",
       "    .dataframe tbody tr th {\n",
       "        vertical-align: top;\n",
       "    }\n",
       "\n",
       "    .dataframe thead th {\n",
       "        text-align: right;\n",
       "    }\n",
       "</style>\n",
       "<table border=\"1\" class=\"dataframe\">\n",
       "  <thead>\n",
       "    <tr style=\"text-align: right;\">\n",
       "      <th></th>\n",
       "      <th>Player_name</th>\n",
       "      <th>Total_serve</th>\n",
       "      <th>1st_in</th>\n",
       "      <th>2nd_in</th>\n",
       "      <th>1st_won</th>\n",
       "      <th>2nd_won</th>\n",
       "      <th>f(i)</th>\n",
       "    </tr>\n",
       "  </thead>\n",
       "  <tbody>\n",
       "    <tr>\n",
       "      <th>0</th>\n",
       "      <td>Aaron_Krickstein</td>\n",
       "      <td>76.0</td>\n",
       "      <td>43.0</td>\n",
       "      <td>33.0</td>\n",
       "      <td>20.0</td>\n",
       "      <td>17.0</td>\n",
       "      <td>0.486842</td>\n",
       "    </tr>\n",
       "    <tr>\n",
       "      <th>1</th>\n",
       "      <td>Adam_Pavlasek</td>\n",
       "      <td>53.0</td>\n",
       "      <td>38.0</td>\n",
       "      <td>15.0</td>\n",
       "      <td>21.0</td>\n",
       "      <td>5.0</td>\n",
       "      <td>0.490566</td>\n",
       "    </tr>\n",
       "    <tr>\n",
       "      <th>2</th>\n",
       "      <td>Adrian_Mannarino</td>\n",
       "      <td>313.0</td>\n",
       "      <td>200.0</td>\n",
       "      <td>113.0</td>\n",
       "      <td>133.0</td>\n",
       "      <td>59.0</td>\n",
       "      <td>0.613419</td>\n",
       "    </tr>\n",
       "    <tr>\n",
       "      <th>6</th>\n",
       "      <td>Adrien_Bossel</td>\n",
       "      <td>42.0</td>\n",
       "      <td>23.0</td>\n",
       "      <td>19.0</td>\n",
       "      <td>14.0</td>\n",
       "      <td>4.0</td>\n",
       "      <td>0.428571</td>\n",
       "    </tr>\n",
       "    <tr>\n",
       "      <th>9</th>\n",
       "      <td>Akira_Santillan</td>\n",
       "      <td>182.0</td>\n",
       "      <td>93.0</td>\n",
       "      <td>89.0</td>\n",
       "      <td>61.0</td>\n",
       "      <td>51.0</td>\n",
       "      <td>0.615385</td>\n",
       "    </tr>\n",
       "  </tbody>\n",
       "</table>\n",
       "</div>"
      ],
      "text/plain": [
       "        Player_name  Total_serve  1st_in  2nd_in  1st_won  2nd_won      f(i)\n",
       "0  Aaron_Krickstein         76.0    43.0    33.0     20.0     17.0  0.486842\n",
       "1     Adam_Pavlasek         53.0    38.0    15.0     21.0      5.0  0.490566\n",
       "2  Adrian_Mannarino        313.0   200.0   113.0    133.0     59.0  0.613419\n",
       "6     Adrien_Bossel         42.0    23.0    19.0     14.0      4.0  0.428571\n",
       "9   Akira_Santillan        182.0    93.0    89.0     61.0     51.0  0.615385"
      ]
     },
     "execution_count": 80,
     "metadata": {},
     "output_type": "execute_result"
    }
   ],
   "source": [
    "serve_frame.head()"
   ]
  },
  {
   "cell_type": "code",
   "execution_count": null,
   "metadata": {},
   "outputs": [],
   "source": []
  }
 ],
 "metadata": {
  "kernelspec": {
   "display_name": "Python 3",
   "language": "python",
   "name": "python3"
  },
  "language_info": {
   "codemirror_mode": {
    "name": "ipython",
    "version": 2
   },
   "file_extension": ".py",
   "mimetype": "text/x-python",
   "name": "python",
   "nbconvert_exporter": "python",
   "pygments_lexer": "ipython2",
   "version": "2.7.14"
  }
 },
 "nbformat": 4,
 "nbformat_minor": 2
}
