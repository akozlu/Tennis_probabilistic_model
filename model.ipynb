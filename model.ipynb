{
 "cells": [
  {
   "cell_type": "markdown",
   "metadata": {},
   "source": [
    "### Building a predictive model by using probability of past records"
   ]
  },
  {
   "cell_type": "code",
   "execution_count": 130,
   "metadata": {},
   "outputs": [],
   "source": [
    "import csv\n",
    "import pandas as pd\n",
    "import numpy as np\n",
    "import glob"
   ]
  },
  {
   "cell_type": "code",
   "execution_count": 131,
   "metadata": {},
   "outputs": [],
   "source": [
    "path =r'/media/romit/249E6A809E6A49FE/my_work/core_project/fol' # use your path\n",
    "allFiles = glob.glob(path + \"/*.csv\")\n",
    "frame = pd.DataFrame()\n",
    "list_ = []\n",
    "for file_ in allFiles:\n",
    "    df = pd.read_csv(file_,index_col=None, header=0)\n",
    "    list_.append(df)\n",
    "frame= pd.concat(list_)\n",
    "len(list_)\n",
    "\n",
    "frame['winner_name'].replace(' ', '_',regex=True,inplace=True)\n",
    "frame['loser_name'].replace(' ', '_',regex=True,inplace=True)"
   ]
  },
  {
   "cell_type": "code",
   "execution_count": 132,
   "metadata": {},
   "outputs": [],
   "source": [
    "x=frame['winner_name'].unique().tolist()\n",
    "v=frame['loser_name'].unique().tolist()\n",
    "res_f=list(set(x+v))"
   ]
  },
  {
   "cell_type": "code",
   "execution_count": 133,
   "metadata": {
    "scrolled": true
   },
   "outputs": [],
   "source": [
    "frame['winner']=frame[['winner_name']]\n",
    "frame=frame[['winner_name','loser_name','surface','round','winner','w_SvGms','l_SvGms']].copy()\n"
   ]
  },
  {
   "cell_type": "code",
   "execution_count": 134,
   "metadata": {},
   "outputs": [],
   "source": [
    "dfs=pd.read_csv('serve_analysis.csv')\n",
    "dfr=pd.read_csv('return_analysis.csv')\n",
    "dfrnd=pd.read_csv('round_abilities.csv')\n",
    "dfsrf=pd.read_csv('surface_abilities.csv')"
   ]
  },
  {
   "cell_type": "code",
   "execution_count": 135,
   "metadata": {},
   "outputs": [],
   "source": [
    "dfrnd['Player_name'].replace(' ', '_',regex=True,inplace=True)\n",
    "dfsrf['Player_name'].replace(' ', '_',regex=True,inplace=True)"
   ]
  },
  {
   "cell_type": "code",
   "execution_count": 136,
   "metadata": {
    "scrolled": true
   },
   "outputs": [
    {
     "data": {
      "text/plain": [
       "94"
      ]
     },
     "execution_count": 136,
     "metadata": {},
     "output_type": "execute_result"
    }
   ],
   "source": [
    "x1=dfs['Player_name'].tolist()\n",
    "x2=dfr['Player_name'].tolist()\n",
    "x3=dfrnd['Player_name'].tolist()\n",
    "x4=dfsrf['Player_name'].tolist()\n",
    "\n",
    "x=set(x1) & set(x2)& set(x3) & set(x4)\n",
    "len(x)"
   ]
  },
  {
   "cell_type": "code",
   "execution_count": 137,
   "metadata": {},
   "outputs": [],
   "source": [
    "def player_prof(dfs,dfr,dfrnd,dfsrf,res_f):\n",
    "    player=[]\n",
    "    cols=['Player_name','Serve','Return','Surface','Round']\n",
    "    pp=pd.DataFrame(columns=cols)\n",
    "    \n",
    "    for z in range(len(res_f)):\n",
    "        array=[]\n",
    "        array.append(res_f[z])\n",
    "        serve=(dfs[dfs['Player_name']==res_f[z]]['f(i)']).sum()\n",
    "        array.append(serve)\n",
    "        \n",
    "        ret=(dfr[dfr['Player_name']==res_f[z]]['g(i)']).sum()\n",
    "        array.append(ret)\n",
    "        \n",
    "        r1=(dfrnd[dfrnd['Player_name']==res_f[z]]['R128']).sum()\n",
    "        array.append(r1)\n",
    "        \n",
    "        r2=(dfrnd[dfrnd['Player_name']==res_f[z]]['R64']).sum()\n",
    "        array.append(r2)\n",
    "        \n",
    "        r3=(dfrnd[dfrnd['Player_name']==res_f[z]]['R32']).sum()\n",
    "        array.append(r3)\n",
    "        \n",
    "        r4=(dfrnd[dfrnd['Player_name']==res_f[z]]['R16']).sum()\n",
    "        array.append(r4)\n",
    "        \n",
    "        QF=(dfrnd[dfrnd['Player_name']==res_f[z]]['QF']).sum()\n",
    "        array.append(QF)\n",
    "        \n",
    "        SF=(dfrnd[dfrnd['Player_name']==res_f[z]]['SF']).sum()\n",
    "        array.append(SF)\n",
    "        \n",
    "        F=(dfrnd[dfrnd['Player_name']==res_f[z]]['F']).sum()\n",
    "        array.append(F)\n",
    "        \n",
    "        grass=(dfsrf[dfsrf['Player_name']==res_f[z]]['W_Grass']).sum()\n",
    "        array.append(grass)\n",
    "        \n",
    "        clay=(dfsrf[dfsrf['Player_name']==res_f[z]]['W_Clay']).sum()\n",
    "        array.append(clay)\n",
    "        \n",
    "        carpet=(dfsrf[dfsrf['Player_name']==res_f[z]]['W_Carpet']).sum()\n",
    "        array.append(carpet)\n",
    "    \n",
    "        hard=(dfsrf[dfsrf['Player_name']==res_f[z]]['W_Hard']).sum()\n",
    "        array.append(hard)\n",
    "        \n",
    "        player.append(array)\n",
    "        \n",
    "    return player"
   ]
  },
  {
   "cell_type": "code",
   "execution_count": 138,
   "metadata": {},
   "outputs": [],
   "source": [
    "t=player_prof(dfs,dfr,dfrnd,dfsrf,res_f)\n"
   ]
  },
  {
   "cell_type": "code",
   "execution_count": 139,
   "metadata": {},
   "outputs": [],
   "source": [
    "columns=['Player_name','serve','return','r1','r2','r3','r4','QF','SF','F','Grass','Clay','Carpet','Hard']\n",
    "play_prof=pd.DataFrame(t,columns=columns)"
   ]
  },
  {
   "cell_type": "code",
   "execution_count": 140,
   "metadata": {
    "scrolled": true
   },
   "outputs": [],
   "source": [
    "play_prof=play_prof.dropna()"
   ]
  },
  {
   "cell_type": "code",
   "execution_count": 141,
   "metadata": {},
   "outputs": [
    {
     "name": "stderr",
     "output_type": "stream",
     "text": [
      "/home/romit/anaconda2/lib/python2.7/site-packages/ipykernel_launcher.py:10: SettingWithCopyWarning: \n",
      "A value is trying to be set on a copy of a slice from a DataFrame\n",
      "\n",
      "See the caveats in the documentation: http://pandas.pydata.org/pandas-docs/stable/indexing.html#indexing-view-versus-copy\n",
      "  # Remove the CWD from sys.path while we load stuff.\n"
     ]
    }
   ],
   "source": [
    "x=play_prof['Player_name'].tolist()\n",
    "frame['count']=-3\n",
    "\n",
    "for z in range(len(frame[:10])):\n",
    "    count=0\n",
    "    if frame.iloc[z]['winner_name'] in x:\n",
    "        count=count+1\n",
    "    if frame.iloc[z]['loser_name'] in x:\n",
    "        count=count+1\n",
    "    frame.iloc[z]['count']=count    \n",
    "        \n",
    "        "
   ]
  },
  {
   "cell_type": "code",
   "execution_count": 142,
   "metadata": {},
   "outputs": [],
   "source": [
    "def count(frame,play_prof):\n",
    "    array=[]\n",
    "    for z in range(len(frame)):\n",
    "        count=0\n",
    "        if frame.iloc[z]['winner_name'] in x:\n",
    "            count=count+1\n",
    "        if frame.iloc[z]['loser_name'] in x:\n",
    "            count=count+1\n",
    "        #print count\n",
    "        array.append(count) \n",
    "\n",
    "    return array"
   ]
  },
  {
   "cell_type": "code",
   "execution_count": 147,
   "metadata": {},
   "outputs": [],
   "source": [
    "t=count(frame,play_prof)\n",
    "l=pd.Series(t)\n",
    "\n",
    "frame['count']=l"
   ]
  },
  {
   "cell_type": "code",
   "execution_count": 148,
   "metadata": {
    "scrolled": true
   },
   "outputs": [],
   "source": [
    "frame_m=frame[frame['count']==2]\n",
    "frame_m.dropna()\n",
    "frame_m=frame_m.drop(['count'],axis=1)"
   ]
  },
  {
   "cell_type": "markdown",
   "metadata": {},
   "source": [
    "## EVALUATION OF MODEL"
   ]
  },
  {
   "cell_type": "markdown",
   "metadata": {},
   "source": [
    "### frame_m= DataSet\n"
   ]
  },
  {
   "cell_type": "markdown",
   "metadata": {},
   "source": [
    "### play_prof=Player Profiles"
   ]
  },
  {
   "cell_type": "code",
   "execution_count": 149,
   "metadata": {},
   "outputs": [],
   "source": [
    "import math"
   ]
  },
  {
   "cell_type": "code",
   "execution_count": 150,
   "metadata": {},
   "outputs": [],
   "source": [
    "def model(play_prof,frame):\n",
    "    a=[]\n",
    "    f=float(play_prof['serve'].mean())\n",
    "    g=float(play_prof['return'].mean())\n",
    "    for z in range(len(frame)):\n",
    "        x=frame.iloc[z]['winner_name']\n",
    "        y=frame.iloc[z]['loser_name']\n",
    "        \n",
    "        x_sg=frame.iloc[z]['w_SvGms']\n",
    "        y_sg=frame.iloc[z]['w_SvGms']\n",
    "        \n",
    "        srf=frame.iloc[z]['surface']\n",
    "        rnd=frame.iloc[z]['round']\n",
    "        \n",
    "        \n",
    "        \n",
    "        winner=play_prof[play_prof['Player_name']==x]\n",
    "        \n",
    "        srv_w=winner['serve'].sum()\n",
    "        ret_w=winner['return'].sum()\n",
    "        \n",
    "        if srf=='Grass':\n",
    "            wp_s=winner['Grass'].sum()\n",
    "        if srf=='Clay':\n",
    "            wp_s=winner['Clay'].sum()\n",
    "        if srf=='Hard':\n",
    "            wp_s=winner['Hard'].sum()\n",
    "        if srf=='Carpet':\n",
    "            wp_s=winner['Carpet'].sum()\n",
    "            \n",
    "        if rnd=='R128':\n",
    "            wp_r=winner['r1'].sum()\n",
    "        if rnd=='R64':\n",
    "             wp_r=winner['r2'].sum()\n",
    "        if rnd=='R32':\n",
    "             wp_r=winner['r3'].sum()\n",
    "        if rnd=='R16':\n",
    "            wp_r=winner['r4'].sum()\n",
    "        if rnd=='QF':\n",
    "            wp_r=winner['QF'].sum()\n",
    "        if rnd=='SF':\n",
    "             wp_r=winner['SF'].sum()\n",
    "        if rnd=='F':\n",
    "             wp_r=winner['F'].sum()\n",
    "        \n",
    "    \n",
    "        \n",
    "        looser=play_prof[play_prof['Player_name']==y]\n",
    "        \n",
    "        srv_l=looser['serve'].sum()\n",
    "        ret_l=looser['return'].sum()\n",
    "        \n",
    "        if srf=='Grass':\n",
    "            lp_s=looser['Grass'].sum()\n",
    "        if srf=='Clay':\n",
    "            lp_s=looser['Clay'].sum()\n",
    "        if srf=='Hard':\n",
    "            lp_s=looser['Hard'].sum()\n",
    "        if srf=='Carpet':\n",
    "            lp_s=looser['Carpet'].sum()\n",
    "            \n",
    "        if rnd=='R128':\n",
    "            lp_r==looser['r1'].sum()\n",
    "        if rnd=='R64':\n",
    "            lp_r=looser['r2'].sum()\n",
    "        if rnd=='R32':\n",
    "            lp_r=looser['r3'].sum()\n",
    "        if rnd=='R16':\n",
    "            lp_r=looser['r4'].sum()\n",
    "        if rnd=='QF':\n",
    "            lp_r=looser['QF'].sum()\n",
    "        if rnd=='SF':\n",
    "            lp_r=looser['SF'].sum()\n",
    "        if rnd=='F':\n",
    "            lp_r=looser['F'].sum()\n",
    "            \n",
    "        \n",
    "        f_xy=((srv_w-f)+(ret_w-g))\n",
    "        f_yx=(srv_l-f)+(ret_l-g)\n",
    "        \n",
    "        '''ww=math.ceil(x_sg*(srv_w))\n",
    "        ll=math.ceil(y_sg*(srv_l))\n",
    "        \n",
    "        \n",
    "        t_x=(ww+(y_sg-ll))\n",
    "        t_y=(ll+(x_sg-ww))'''\n",
    "        \n",
    "        \n",
    "      \n",
    "        \n",
    "        if f_xy>=f_yx:\n",
    "            a.append(y)\n",
    "        else:\n",
    "            a.append(x)\n",
    "        \n",
    "            \n",
    "    return a\n",
    "        "
   ]
  },
  {
   "cell_type": "code",
   "execution_count": 151,
   "metadata": {},
   "outputs": [],
   "source": [
    "ser=model(play_prof,frame_m)"
   ]
  },
  {
   "cell_type": "code",
   "execution_count": 152,
   "metadata": {},
   "outputs": [
    {
     "name": "stdout",
     "output_type": "stream",
     "text": [
      "6798 8455 0.804021289178\n"
     ]
    }
   ],
   "source": [
    "total=0\n",
    "count=0\n",
    "for z in range(len(frame_m)):\n",
    "    if frame_m.iloc[z]['winner_name']==ser[z]:\n",
    "        total=total+1\n",
    "        count=count+1\n",
    "       \n",
    "    else:\n",
    "        total=total+1\n",
    "       \n",
    "        \n",
    "print count,total,float(count)/total\n",
    "    "
   ]
  },
  {
   "cell_type": "markdown",
   "metadata": {},
   "source": [
    "## thus the accuracy of the model is 81%"
   ]
  },
  {
   "cell_type": "markdown",
   "metadata": {},
   "source": [
    "##### the round and surface ability is yet to be incorporated into the model."
   ]
  },
  {
   "cell_type": "code",
   "execution_count": null,
   "metadata": {},
   "outputs": [],
   "source": []
  }
 ],
 "metadata": {
  "kernelspec": {
   "display_name": "Python 3",
   "language": "python",
   "name": "python3"
  },
  "language_info": {
   "codemirror_mode": {
    "name": "ipython",
    "version": 2
   },
   "file_extension": ".py",
   "mimetype": "text/x-python",
   "name": "python",
   "nbconvert_exporter": "python",
   "pygments_lexer": "ipython2",
   "version": "2.7.14"
  }
 },
 "nbformat": 4,
 "nbformat_minor": 2
}
