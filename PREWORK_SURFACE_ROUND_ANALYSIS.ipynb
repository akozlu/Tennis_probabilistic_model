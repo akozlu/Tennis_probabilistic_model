{
 "cells": [
  {
   "cell_type": "code",
   "execution_count": 42,
   "metadata": {},
   "outputs": [],
   "source": [
    "import csv\n",
    "import numpy as np\n",
    "import pandas as pd\n",
    "import glob"
   ]
  },
  {
   "cell_type": "code",
   "execution_count": 43,
   "metadata": {},
   "outputs": [
    {
     "data": {
      "text/plain": [
       "16"
      ]
     },
     "execution_count": 43,
     "metadata": {},
     "output_type": "execute_result"
    }
   ],
   "source": [
    "path =r'/media/romit/249E6A809E6A49FE/my_work/core_project/fol' \n",
    "allFiles = glob.glob(path + \"/*.csv\")\n",
    "frame = pd.DataFrame()\n",
    "list_ = []\n",
    "for file_ in allFiles:\n",
    "    df = pd.read_csv(file_,index_col=None, header=0)\n",
    "    list_.append(df)\n",
    "frame = pd.concat(list_)\n",
    "len(list_)"
   ]
  },
  {
   "cell_type": "code",
   "execution_count": 44,
   "metadata": {},
   "outputs": [],
   "source": [
    "frame.drop(['tourney_name','tourney_id'],axis=1,inplace=True)\n"
   ]
  },
  {
   "cell_type": "code",
   "execution_count": 45,
   "metadata": {},
   "outputs": [],
   "source": [
    "players_1=frame['winner_name'].tolist()\n",
    "players_2=frame['loser_name'].tolist()\n",
    "players=set(list(players_1 and players_2))\n"
   ]
  },
  {
   "cell_type": "code",
   "execution_count": 46,
   "metadata": {},
   "outputs": [
    {
     "data": {
      "text/plain": [
       "1832"
      ]
     },
     "execution_count": 46,
     "metadata": {},
     "output_type": "execute_result"
    }
   ],
   "source": [
    "players=list(players)\n",
    "len(players)"
   ]
  },
  {
   "cell_type": "code",
   "execution_count": 47,
   "metadata": {
    "scrolled": true
   },
   "outputs": [
    {
     "data": {
      "text/plain": [
       "1209"
      ]
     },
     "execution_count": 47,
     "metadata": {},
     "output_type": "execute_result"
    }
   ],
   "source": [
    "rr=frame[(frame['winner_name']=='Roger Federer') | (frame['loser_name']=='Roger Federer')]\n",
    "len(rr)"
   ]
  },
  {
   "cell_type": "code",
   "execution_count": 48,
   "metadata": {},
   "outputs": [
    {
     "data": {
      "text/plain": [
       "{nan, 'Carpet', 'Clay', 'Grass', 'Hard'}"
      ]
     },
     "execution_count": 48,
     "metadata": {},
     "output_type": "execute_result"
    }
   ],
   "source": [
    "x=rr['surface'].tolist()\n",
    "x=set(x)\n",
    "x"
   ]
  },
  {
   "cell_type": "markdown",
   "metadata": {},
   "source": [
    "## Player abilities at surface"
   ]
  },
  {
   "cell_type": "code",
   "execution_count": 49,
   "metadata": {},
   "outputs": [],
   "source": [
    "def surface_prob(df,list_names):\n",
    "    list_names=sorted(list_names)\n",
    "    final=[]\n",
    "    for z in range(len(list_names)):\n",
    "        basic=[]\n",
    "        basic.append(list_names[z])\n",
    "        rr=df[(df['winner_name']==list_names[z]) | (df['loser_name']==list_names[z])]\n",
    "        z1=len(rr[(rr['surface']=='Grass') & (rr['winner_name']==list_names[z]) ])\n",
    "        z11=len(rr[rr['surface']=='Grass'])\n",
    "        if z11==0:\n",
    "            basic.append(0)\n",
    "        else:\n",
    "            prob=float(z1)/(z11)\n",
    "            basic.append(prob)\n",
    "        \n",
    "        rr=df[(df['winner_name']==list_names[z]) | (df['loser_name']==list_names[z])]\n",
    "        z1=len(rr[(rr['surface']=='Clay') & (rr['winner_name']==list_names[z]) ])\n",
    "        z11=len(rr[rr['surface']=='Clay'])\n",
    "        if z11==0:\n",
    "            basic.append(0)\n",
    "        else:\n",
    "            prob=float(z1)/(z11)\n",
    "            basic.append(prob)\n",
    "        \n",
    "        rr=df[(df['winner_name']==list_names[z]) | (df['loser_name']==list_names[z])]\n",
    "        z1=len(rr[(rr['surface']=='Hard') & (rr['winner_name']==list_names[z]) ])\n",
    "        z11=len(rr[rr['surface']=='Hard'])\n",
    "        if z11==0:\n",
    "            basic.append(0)\n",
    "        else:\n",
    "            prob=float(z1)/(z11)\n",
    "            basic.append(prob)\n",
    "        \n",
    "        rr=df[(df['winner_name']==list_names[z]) | (df['loser_name']==list_names[z])]\n",
    "        z1=len(rr[(rr['surface']=='Carpet') & (rr['winner_name']==list_names[z]) ])\n",
    "        z11=len(rr[rr['surface']=='Carpet'])\n",
    "        if z11==0:\n",
    "            basic.append(0)\n",
    "        else:\n",
    "            prob=float(z1)/(z11)\n",
    "            basic.append(prob)\n",
    "        \n",
    "        final.append(basic)\n",
    "        \n",
    "    return final"
   ]
  },
  {
   "cell_type": "code",
   "execution_count": 50,
   "metadata": {},
   "outputs": [],
   "source": [
    "t=surface_prob(frame,players)"
   ]
  },
  {
   "cell_type": "code",
   "execution_count": 51,
   "metadata": {},
   "outputs": [],
   "source": [
    "columns=['Player_name','Win_on_Grass','Win_on_Clay','Win_on_Hard','Win_on_Carpet']\n",
    "df_surface=pd.DataFrame(t,columns=columns)"
   ]
  },
  {
   "cell_type": "code",
   "execution_count": 52,
   "metadata": {
    "scrolled": true
   },
   "outputs": [
    {
     "data": {
      "text/html": [
       "<div>\n",
       "<style scoped>\n",
       "    .dataframe tbody tr th:only-of-type {\n",
       "        vertical-align: middle;\n",
       "    }\n",
       "\n",
       "    .dataframe tbody tr th {\n",
       "        vertical-align: top;\n",
       "    }\n",
       "\n",
       "    .dataframe thead th {\n",
       "        text-align: right;\n",
       "    }\n",
       "</style>\n",
       "<table border=\"1\" class=\"dataframe\">\n",
       "  <thead>\n",
       "    <tr style=\"text-align: right;\">\n",
       "      <th></th>\n",
       "      <th>Player_name</th>\n",
       "      <th>Win_on_Grass</th>\n",
       "      <th>Win_on_Clay</th>\n",
       "      <th>Win_on_Hard</th>\n",
       "      <th>Win_on_Carpet</th>\n",
       "    </tr>\n",
       "  </thead>\n",
       "  <tbody>\n",
       "    <tr>\n",
       "      <th>1791</th>\n",
       "      <td>Xavier Malisse</td>\n",
       "      <td>0.662338</td>\n",
       "      <td>0.440476</td>\n",
       "      <td>0.476190</td>\n",
       "      <td>0.545455</td>\n",
       "    </tr>\n",
       "    <tr>\n",
       "      <th>1804</th>\n",
       "      <td>Yen Hsun Lu</td>\n",
       "      <td>0.442623</td>\n",
       "      <td>0.208333</td>\n",
       "      <td>0.428070</td>\n",
       "      <td>0.500000</td>\n",
       "    </tr>\n",
       "    <tr>\n",
       "      <th>1805</th>\n",
       "      <td>Yevgeny Kafelnikov</td>\n",
       "      <td>0.777778</td>\n",
       "      <td>0.413043</td>\n",
       "      <td>0.587629</td>\n",
       "      <td>0.653846</td>\n",
       "    </tr>\n",
       "    <tr>\n",
       "      <th>1813</th>\n",
       "      <td>Younes El Aynaoui</td>\n",
       "      <td>0.416667</td>\n",
       "      <td>0.673077</td>\n",
       "      <td>0.561404</td>\n",
       "      <td>0.312500</td>\n",
       "    </tr>\n",
       "    <tr>\n",
       "      <th>1819</th>\n",
       "      <td>Yuichi Sugita</td>\n",
       "      <td>0.526316</td>\n",
       "      <td>0.300000</td>\n",
       "      <td>0.423729</td>\n",
       "      <td>1.000000</td>\n",
       "    </tr>\n",
       "  </tbody>\n",
       "</table>\n",
       "</div>"
      ],
      "text/plain": [
       "             Player_name  Win_on_Grass  Win_on_Clay  Win_on_Hard  \\\n",
       "1791      Xavier Malisse      0.662338     0.440476     0.476190   \n",
       "1804         Yen Hsun Lu      0.442623     0.208333     0.428070   \n",
       "1805  Yevgeny Kafelnikov      0.777778     0.413043     0.587629   \n",
       "1813   Younes El Aynaoui      0.416667     0.673077     0.561404   \n",
       "1819       Yuichi Sugita      0.526316     0.300000     0.423729   \n",
       "\n",
       "      Win_on_Carpet  \n",
       "1791       0.545455  \n",
       "1804       0.500000  \n",
       "1805       0.653846  \n",
       "1813       0.312500  \n",
       "1819       1.000000  "
      ]
     },
     "execution_count": 52,
     "metadata": {},
     "output_type": "execute_result"
    }
   ],
   "source": [
    "df_surface=df_surface[(df_surface.Win_on_Grass!=float(0)) & (df_surface.Win_on_Clay !=0) & (df_surface.Win_on_Hard !=0) & (df_surface.Win_on_Carpet !=0)]\n",
    "df_surface.tail()"
   ]
  },
  {
   "cell_type": "markdown",
   "metadata": {},
   "source": [
    "### Player abilities at round_of"
   ]
  },
  {
   "cell_type": "code",
   "execution_count": 53,
   "metadata": {},
   "outputs": [
    {
     "data": {
      "text/plain": [
       "{'F', 'QF', 'R128', 'R16', 'R32', 'R64', 'RR', 'SF'}"
      ]
     },
     "execution_count": 53,
     "metadata": {},
     "output_type": "execute_result"
    }
   ],
   "source": [
    "x=rr['round'].tolist()\n",
    "x=set(x)\n",
    "x"
   ]
  },
  {
   "cell_type": "code",
   "execution_count": 54,
   "metadata": {},
   "outputs": [],
   "source": [
    "def round_prob(df,list_names):\n",
    "    list_names=sorted(list_names)\n",
    "    final=[]\n",
    "    for z in range(len(list_names)):\n",
    "        basic=[]\n",
    "        basic.append(list_names[z])\n",
    "        rr=df[(df['winner_name']==list_names[z]) | (df['loser_name']==list_names[z])]\n",
    "        z1=len(rr[(rr['round']=='F') & (rr['winner_name']==list_names[z]) ])\n",
    "        z11=len(rr[rr['round']=='F'])\n",
    "        if z11==0:\n",
    "            basic.append(0)\n",
    "        else:\n",
    "            prob=float(z1)/(z11)\n",
    "            basic.append(prob)\n",
    "        \n",
    "        rr=df[(df['winner_name']==list_names[z]) | (df['loser_name']==list_names[z])]\n",
    "        z1=len(rr[(rr['round']=='QF') & (rr['winner_name']==list_names[z]) ])\n",
    "        z11=len(rr[rr['round']=='QF'])\n",
    "        if z11==0:\n",
    "            basic.append(0)\n",
    "        else:\n",
    "            prob=float(z1)/(z11)\n",
    "            basic.append(prob)\n",
    "            \n",
    "        rr=df[(df['winner_name']==list_names[z]) | (df['loser_name']==list_names[z])]\n",
    "        z1=len(rr[(rr['round']=='R16') & (rr['winner_name']==list_names[z]) ])\n",
    "        z11=len(rr[rr['round']=='R16'])\n",
    "        if z11==0:\n",
    "            basic.append(0)\n",
    "        else:\n",
    "            prob=float(z1)/(z11)\n",
    "            basic.append(prob)\n",
    "        \n",
    "        rr=df[(df['winner_name']==list_names[z]) | (df['loser_name']==list_names[z])]\n",
    "        z1=len(rr[(rr['round']=='R128') & (rr['winner_name']==list_names[z]) ])\n",
    "        z11=len(rr[rr['round']=='R128'])\n",
    "        if z11==0:\n",
    "            basic.append(0)\n",
    "        else:\n",
    "            prob=float(z1)/(z11)\n",
    "            basic.append(prob)\n",
    "            \n",
    "        rr=df[(df['winner_name']==list_names[z]) | (df['loser_name']==list_names[z])]\n",
    "        z1=len(rr[(rr['round']=='R32') & (rr['winner_name']==list_names[z]) ])\n",
    "        z11=len(rr[rr['round']=='R32'])\n",
    "        if z11==0:\n",
    "            basic.append(0)\n",
    "        else:\n",
    "            prob=float(z1)/(z11)\n",
    "            basic.append(prob)\n",
    "        \n",
    "        rr=df[(df['winner_name']==list_names[z]) | (df['loser_name']==list_names[z])]\n",
    "        z1=len(rr[(rr['round']=='R64') & (rr['winner_name']==list_names[z]) ])\n",
    "        z11=len(rr[rr['round']=='R64'])\n",
    "        if z11==0:\n",
    "            basic.append(0)\n",
    "        else:\n",
    "            prob=float(z1)/(z11)\n",
    "            basic.append(prob)\n",
    "            \n",
    "        rr=df[(df['winner_name']==list_names[z]) | (df['loser_name']==list_names[z])]\n",
    "        z1=len(rr[(rr['round']=='SF') & (rr['winner_name']==list_names[z]) ])\n",
    "        z11=len(rr[rr['round']=='SF'])\n",
    "        if z11==0:\n",
    "            basic.append(0)\n",
    "        else:\n",
    "            prob=float(z1)/(z11)\n",
    "            basic.append(prob)\n",
    "        \n",
    "        final.append(basic)\n",
    "        \n",
    "        \n",
    "    return final"
   ]
  },
  {
   "cell_type": "code",
   "execution_count": 55,
   "metadata": {},
   "outputs": [],
   "source": [
    "t=round_prob(frame,players)\n"
   ]
  },
  {
   "cell_type": "code",
   "execution_count": 71,
   "metadata": {
    "scrolled": true
   },
   "outputs": [],
   "source": [
    "columns=['Player_name','F', 'QF', 'R128', 'R16', 'R32', 'R64', 'SF']\n",
    "df_round=pd.DataFrame(t,columns=columns)\n"
   ]
  },
  {
   "cell_type": "code",
   "execution_count": 72,
   "metadata": {
    "scrolled": true
   },
   "outputs": [
    {
     "data": {
      "text/html": [
       "<div>\n",
       "<style scoped>\n",
       "    .dataframe tbody tr th:only-of-type {\n",
       "        vertical-align: middle;\n",
       "    }\n",
       "\n",
       "    .dataframe tbody tr th {\n",
       "        vertical-align: top;\n",
       "    }\n",
       "\n",
       "    .dataframe thead th {\n",
       "        text-align: right;\n",
       "    }\n",
       "</style>\n",
       "<table border=\"1\" class=\"dataframe\">\n",
       "  <thead>\n",
       "    <tr style=\"text-align: right;\">\n",
       "      <th></th>\n",
       "      <th>Player_name</th>\n",
       "      <th>F</th>\n",
       "      <th>QF</th>\n",
       "      <th>R128</th>\n",
       "      <th>R16</th>\n",
       "      <th>R32</th>\n",
       "      <th>R64</th>\n",
       "      <th>SF</th>\n",
       "    </tr>\n",
       "  </thead>\n",
       "  <tbody>\n",
       "    <tr>\n",
       "      <th>9</th>\n",
       "      <td>Adam Chadaj</td>\n",
       "      <td>0.0</td>\n",
       "      <td>0.00</td>\n",
       "      <td>0.000000</td>\n",
       "      <td>0.00</td>\n",
       "      <td>1.000000</td>\n",
       "      <td>0.000000</td>\n",
       "      <td>0.000000</td>\n",
       "    </tr>\n",
       "    <tr>\n",
       "      <th>14</th>\n",
       "      <td>Adam Pavlasek</td>\n",
       "      <td>0.0</td>\n",
       "      <td>0.00</td>\n",
       "      <td>1.000000</td>\n",
       "      <td>0.50</td>\n",
       "      <td>0.250000</td>\n",
       "      <td>0.000000</td>\n",
       "      <td>0.000000</td>\n",
       "    </tr>\n",
       "    <tr>\n",
       "      <th>19</th>\n",
       "      <td>Adrian Cruciat</td>\n",
       "      <td>0.0</td>\n",
       "      <td>0.00</td>\n",
       "      <td>0.000000</td>\n",
       "      <td>0.00</td>\n",
       "      <td>0.500000</td>\n",
       "      <td>0.000000</td>\n",
       "      <td>0.000000</td>\n",
       "    </tr>\n",
       "    <tr>\n",
       "      <th>21</th>\n",
       "      <td>Adrian Garcia</td>\n",
       "      <td>0.0</td>\n",
       "      <td>0.00</td>\n",
       "      <td>0.166667</td>\n",
       "      <td>0.00</td>\n",
       "      <td>0.375000</td>\n",
       "      <td>0.000000</td>\n",
       "      <td>0.000000</td>\n",
       "    </tr>\n",
       "    <tr>\n",
       "      <th>22</th>\n",
       "      <td>Adrian Mannarino</td>\n",
       "      <td>0.0</td>\n",
       "      <td>0.36</td>\n",
       "      <td>0.416667</td>\n",
       "      <td>0.55</td>\n",
       "      <td>0.514286</td>\n",
       "      <td>0.385965</td>\n",
       "      <td>0.444444</td>\n",
       "    </tr>\n",
       "  </tbody>\n",
       "</table>\n",
       "</div>"
      ],
      "text/plain": [
       "         Player_name    F    QF      R128   R16       R32       R64        SF\n",
       "9        Adam Chadaj  0.0  0.00  0.000000  0.00  1.000000  0.000000  0.000000\n",
       "14     Adam Pavlasek  0.0  0.00  1.000000  0.50  0.250000  0.000000  0.000000\n",
       "19    Adrian Cruciat  0.0  0.00  0.000000  0.00  0.500000  0.000000  0.000000\n",
       "21     Adrian Garcia  0.0  0.00  0.166667  0.00  0.375000  0.000000  0.000000\n",
       "22  Adrian Mannarino  0.0  0.36  0.416667  0.55  0.514286  0.385965  0.444444"
      ]
     },
     "execution_count": 72,
     "metadata": {},
     "output_type": "execute_result"
    }
   ],
   "source": [
    "df_round=df_round[(df_round.F!=0) | (df_round.SF!=0) | (df_round.QF!=0) | (df_round.R16!=0) | (df_round.R32!=0) | (df_round.R64!=0)]\n",
    "df_round.head()"
   ]
  },
  {
   "cell_type": "code",
   "execution_count": null,
   "metadata": {},
   "outputs": [],
   "source": []
  },
  {
   "cell_type": "code",
   "execution_count": null,
   "metadata": {},
   "outputs": [],
   "source": []
  }
 ],
 "metadata": {
  "kernelspec": {
   "display_name": "Python 3",
   "language": "python",
   "name": "python3"
  },
  "language_info": {
   "codemirror_mode": {
    "name": "ipython",
    "version": 2
   },
   "file_extension": ".py",
   "mimetype": "text/x-python",
   "name": "python",
   "nbconvert_exporter": "python",
   "pygments_lexer": "ipython2",
   "version": "2.7.14"
  }
 },
 "nbformat": 4,
 "nbformat_minor": 2
}
